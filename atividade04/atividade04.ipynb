{
 "cells": [
  {
   "cell_type": "code",
   "execution_count": 1,
   "metadata": {},
   "outputs": [],
   "source": [
    "import numpy as np\n",
    "import pandas as pd"
   ]
  },
  {
   "cell_type": "markdown",
   "metadata": {},
   "source": [
    "# Questão 01: Implemente as funções"
   ]
  },
  {
   "cell_type": "markdown",
   "metadata": {},
   "source": [
    "## MAE(Mean Absolute Erro, em português, Erro Médio Absoluto)"
   ]
  },
  {
   "cell_type": "code",
   "execution_count": 3,
   "metadata": {},
   "outputs": [],
   "source": [
    "def mae(y, y_pred):\n",
    "  return np.sum(np.abs(y_pred - y)) / len(y)"
   ]
  },
  {
   "cell_type": "markdown",
   "metadata": {},
   "source": [
    "## MSE(Mean Squered Error, em português, Erro Quadrático Médio)"
   ]
  },
  {
   "cell_type": "code",
   "execution_count": 2,
   "metadata": {},
   "outputs": [],
   "source": [
    "def mse(y, y_pred):\n",
    "  return np.sum((y_pred - y)**2) / len(y)"
   ]
  },
  {
   "cell_type": "markdown",
   "metadata": {},
   "source": [
    "## RMSE(Root of Mean Squered Error, em português, Raiz do Erro Quadrático Médio))"
   ]
  },
  {
   "cell_type": "code",
   "execution_count": 4,
   "metadata": {},
   "outputs": [],
   "source": [
    "def rmse(y, y_pred):\n",
    "  return np.sqrt(mse(y, y_pred))"
   ]
  },
  {
   "cell_type": "markdown",
   "metadata": {},
   "source": [
    "## Teste com valores conhecidos"
   ]
  },
  {
   "cell_type": "code",
   "execution_count": 9,
   "metadata": {},
   "outputs": [
    {
     "name": "stdout",
     "output_type": "stream",
     "text": [
      " mae: 2.1666666666666665\n",
      " mse: 4.75\n",
      "rmse: 2.179449471770337\n"
     ]
    }
   ],
   "source": [
    "y = np.array([1, 4, 7])\n",
    "y_pred = np.array([3, 2, 4.5])\n",
    "\n",
    "print(f'{\"mae:\":>5} {mae(y, y_pred)}')\n",
    "print(f'{\"mse:\":>5} {mse(y, y_pred)}')\n",
    "print(f'{\"rmse:\":>5} {rmse(y, y_pred)}')"
   ]
  },
  {
   "cell_type": "markdown",
   "metadata": {},
   "source": [
    "# Questão 02:2. Implemente uma função do Python para dividir de forma randomizada o dataset entre treino e teste. A função recebe como parâmetros:\n",
    "\n",
    "1. X - matriz com features\n",
    "1. y - vetor com rótulos\n",
    "1. perc_treino - percentual dos dados usados para treino\n",
    "1. seed - semente de randomização"
   ]
  },
  {
   "cell_type": "code",
   "execution_count": 1,
   "metadata": {},
   "outputs": [],
   "source": [
    "def randomized_split(x, y, p, seed):\n",
    "  n = len(x)\n",
    "  idx = np.random.RandomState(seed=seed).permutation(np.arange(n))\n",
    "  qtd_train = int(p * n) # pega o piso\n",
    "  idx_train = idx[:qtd_train]\n",
    "  idx_test = idx[qtd_train:]\n",
    "\n",
    "  if type(x) == np.ndarray:    # NumPy Array\n",
    "    x_train   = x[idx_train]\n",
    "    x_test    = x[idx_test]\n",
    "    y_train   = y[idx_train]\n",
    "    y_test    = y[idx_test]\n",
    "  else:                        # Pandas DataFrame\n",
    "    x_train   = x.iloc[idx_train]\n",
    "    x_test    = x.iloc[idx_test]\n",
    "    y_train   = y.iloc[idx_train]\n",
    "    y_test    = y.iloc[idx_test]\n",
    "        \n",
    "  return x_train, x_test, y_train, y_test"
   ]
  }
 ],
 "metadata": {
  "interpreter": {
   "hash": "9ed5d1d1dfe9b2261c7a773d4a02e4cd4211327f910f2d56bd92bd353db7856e"
  },
  "kernelspec": {
   "display_name": "Python 3.9.11 ('machine_learning')",
   "language": "python",
   "name": "python3"
  },
  "language_info": {
   "codemirror_mode": {
    "name": "ipython",
    "version": 3
   },
   "file_extension": ".py",
   "mimetype": "text/x-python",
   "name": "python",
   "nbconvert_exporter": "python",
   "pygments_lexer": "ipython3",
   "version": "3.9.11"
  },
  "orig_nbformat": 4
 },
 "nbformat": 4,
 "nbformat_minor": 2
}
