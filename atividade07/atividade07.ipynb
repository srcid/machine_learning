{
 "cells": [
  {
   "cell_type": "markdown",
   "metadata": {},
   "source": [
    "# Conjunto de dados para classificação de satisfação de clientes de companhias aéreas"
   ]
  },
  {
   "cell_type": "markdown",
   "metadata": {},
   "source": [
    "## Problema\n",
    "\n",
    "O conjunto de dados consiste na predição de satisfação de clientes de uma companhia aérea baseado em algumas caracteristicas físicas, profissional e da viagem do cliente.\n",
    "\n",
    "Trata-se de um problema de classificação binario.\n",
    "\n",
    "_Features_\n",
    "- Gender: Sexo do passageiro (Female/Male).\n",
    "- Age: Idade do passageiro (Natural).\n",
    "- Customer Type: Tipo do cliente (First-time/Returning).\n",
    "- Type of Travel: Propossito da viagem (Business/Personal).\n",
    "- Class: Classe do assento do passgeiro no avião (Bussiness, Economic, Economic Plus).\n",
    "- Flight Distance: Distância do voou em milhas.\n",
    "- Departure Delay: Atraso de partida do voou, em minutos.\n",
    "- Arrival Delay: Atraso na chegada do voou, em minutos.\n",
    "- Departure and Arrival Time Convenience: \"Satisfaction level with the convenience of the flight departure and arrival times from 1 (lowest) to 5 (highest) - 0 means \"\"not applicable\"\"\"\n",
    "- Ease of Online Booking: \"Satisfaction level with the online booking experience from 1 (lowest) to 5 (highest) - 0 means \"\"not applicable\"\"\"\n",
    "- Check-in Service: \"Satisfaction level with the check-in service from 1 (lowest) to 5 (highest) - 0 means \"\"not applicable\"\"\"\n",
    "- Online Boarding: \"Satisfaction level with the online boarding experience from 1 (lowest) to 5 (highest) - 0 means \"\"not applicable\"\"\"\n",
    "- Gate Location: \"Satisfaction level with the gate location in the airport from 1 (lowest) to 5 (highest) - 0 means \"\"not applicable\"\"\"\n",
    "- On-board Service: \"Satisfaction level with the on-boarding service in the airport from 1 (lowest) to 5 (highest) - 0 means \"\"not applicable\"\"\"\n",
    "- Seat Comfort: \"Satisfaction level with the comfort of the airplane seat from 1 (lowest) to 5 (highest) - 0 means \"\"not applicable\"\"\"\n",
    "- Leg Room Service: \"Satisfaction level with the leg room of the airplane seat from 1 (lowest) to 5 (highest) - 0 means \"\"not applicable\"\"\"\n",
    "- Cleanliness: \"Satisfaction level with the cleanliness of the airplane from 1 (lowest) to 5 (highest) - 0 means \"\"not applicable\"\"\"\n",
    "- Food and Drink: \"Satisfaction level with the food and drinks on the airplane from 1 (lowest) to 5 (highest) - 0 means \"\"not applicable\"\"\"\n",
    "- In-flight Service: \"Satisfaction level with the in-flight service from 1 (lowest) to 5 (highest) - 0 means \"\"not applicable\"\"\"\n",
    "- In-flight Wifi Service: \"Satisfaction level with the in-flight Wifi service from 1 (lowest) to 5 (highest) - 0 means \"\"not applicable\"\"\"\n",
    "- In-flight Entertainment: \"Satisfaction level with the in-flight entertainment from 1 (lowest) to 5 (highest) - 0 means \"\"not applicable\"\"\"\n",
    "- Baggage Handling: \"Satisfaction level with the baggage handling from the airline from 1 (lowest) to 5 (highest) - 0 means \"\"not applicable\"\"\"\n",
    "- Satisfaction: Nivel de satisfação com a companhia aérea (Satisfied/Neutral or unsatisfied)\n"
   ]
  },
  {
   "cell_type": "code",
   "execution_count": 3,
   "metadata": {},
   "outputs": [],
   "source": [
    "import pandas as pd\n",
    "import numpy as np\n",
    "import seaborn as sns\n",
    "from copy import copy\n",
    "from sklearn.pipeline import Pipeline\n",
    "from sklearn.preprocessing import OrdinalEncoder,OneHotEncoder,StandardScaler\n",
    "from sklearn.compose import ColumnTransformer\n",
    "from sklearn.model_selection import train_test_split,GridSearchCV,cross_val_score,RandomizedSearchCV\n",
    "from sklearn.metrics import f1_score,classification_report\n",
    "from sklearn import ensemble\n",
    "from sklearn import svm"
   ]
  },
  {
   "cell_type": "markdown",
   "metadata": {},
   "source": [
    "## Importando dataset"
   ]
  },
  {
   "cell_type": "code",
   "execution_count": 4,
   "metadata": {},
   "outputs": [],
   "source": [
    "df = pd.read_csv('../datasets/airline_passenger_satisfaction.csv').drop('ID',axis=1)"
   ]
  },
  {
   "cell_type": "markdown",
   "metadata": {},
   "source": [
    "## Apresentação dos dados"
   ]
  },
  {
   "cell_type": "code",
   "execution_count": 5,
   "metadata": {},
   "outputs": [
    {
     "data": {
      "text/html": [
       "<div>\n",
       "<style scoped>\n",
       "    .dataframe tbody tr th:only-of-type {\n",
       "        vertical-align: middle;\n",
       "    }\n",
       "\n",
       "    .dataframe tbody tr th {\n",
       "        vertical-align: top;\n",
       "    }\n",
       "\n",
       "    .dataframe thead th {\n",
       "        text-align: right;\n",
       "    }\n",
       "</style>\n",
       "<table border=\"1\" class=\"dataframe\">\n",
       "  <thead>\n",
       "    <tr style=\"text-align: right;\">\n",
       "      <th></th>\n",
       "      <th>Gender</th>\n",
       "      <th>Age</th>\n",
       "      <th>Customer Type</th>\n",
       "      <th>Type of Travel</th>\n",
       "      <th>Class</th>\n",
       "      <th>Flight Distance</th>\n",
       "      <th>Departure Delay</th>\n",
       "      <th>Arrival Delay</th>\n",
       "      <th>Departure and Arrival Time Convenience</th>\n",
       "      <th>Ease of Online Booking</th>\n",
       "      <th>...</th>\n",
       "      <th>On-board Service</th>\n",
       "      <th>Seat Comfort</th>\n",
       "      <th>Leg Room Service</th>\n",
       "      <th>Cleanliness</th>\n",
       "      <th>Food and Drink</th>\n",
       "      <th>In-flight Service</th>\n",
       "      <th>In-flight Wifi Service</th>\n",
       "      <th>In-flight Entertainment</th>\n",
       "      <th>Baggage Handling</th>\n",
       "      <th>Satisfaction</th>\n",
       "    </tr>\n",
       "  </thead>\n",
       "  <tbody>\n",
       "    <tr>\n",
       "      <th>0</th>\n",
       "      <td>Male</td>\n",
       "      <td>48</td>\n",
       "      <td>First-time</td>\n",
       "      <td>Business</td>\n",
       "      <td>Business</td>\n",
       "      <td>821</td>\n",
       "      <td>2</td>\n",
       "      <td>5.0</td>\n",
       "      <td>3</td>\n",
       "      <td>3</td>\n",
       "      <td>...</td>\n",
       "      <td>3</td>\n",
       "      <td>5</td>\n",
       "      <td>2</td>\n",
       "      <td>5</td>\n",
       "      <td>5</td>\n",
       "      <td>5</td>\n",
       "      <td>3</td>\n",
       "      <td>5</td>\n",
       "      <td>5</td>\n",
       "      <td>Neutral or Dissatisfied</td>\n",
       "    </tr>\n",
       "    <tr>\n",
       "      <th>1</th>\n",
       "      <td>Female</td>\n",
       "      <td>35</td>\n",
       "      <td>Returning</td>\n",
       "      <td>Business</td>\n",
       "      <td>Business</td>\n",
       "      <td>821</td>\n",
       "      <td>26</td>\n",
       "      <td>39.0</td>\n",
       "      <td>2</td>\n",
       "      <td>2</td>\n",
       "      <td>...</td>\n",
       "      <td>5</td>\n",
       "      <td>4</td>\n",
       "      <td>5</td>\n",
       "      <td>5</td>\n",
       "      <td>3</td>\n",
       "      <td>5</td>\n",
       "      <td>2</td>\n",
       "      <td>5</td>\n",
       "      <td>5</td>\n",
       "      <td>Satisfied</td>\n",
       "    </tr>\n",
       "    <tr>\n",
       "      <th>2</th>\n",
       "      <td>Male</td>\n",
       "      <td>41</td>\n",
       "      <td>Returning</td>\n",
       "      <td>Business</td>\n",
       "      <td>Business</td>\n",
       "      <td>853</td>\n",
       "      <td>0</td>\n",
       "      <td>0.0</td>\n",
       "      <td>4</td>\n",
       "      <td>4</td>\n",
       "      <td>...</td>\n",
       "      <td>3</td>\n",
       "      <td>5</td>\n",
       "      <td>3</td>\n",
       "      <td>5</td>\n",
       "      <td>5</td>\n",
       "      <td>3</td>\n",
       "      <td>4</td>\n",
       "      <td>3</td>\n",
       "      <td>3</td>\n",
       "      <td>Satisfied</td>\n",
       "    </tr>\n",
       "    <tr>\n",
       "      <th>3</th>\n",
       "      <td>Male</td>\n",
       "      <td>50</td>\n",
       "      <td>Returning</td>\n",
       "      <td>Business</td>\n",
       "      <td>Business</td>\n",
       "      <td>1905</td>\n",
       "      <td>0</td>\n",
       "      <td>0.0</td>\n",
       "      <td>2</td>\n",
       "      <td>2</td>\n",
       "      <td>...</td>\n",
       "      <td>5</td>\n",
       "      <td>5</td>\n",
       "      <td>5</td>\n",
       "      <td>4</td>\n",
       "      <td>4</td>\n",
       "      <td>5</td>\n",
       "      <td>2</td>\n",
       "      <td>5</td>\n",
       "      <td>5</td>\n",
       "      <td>Satisfied</td>\n",
       "    </tr>\n",
       "    <tr>\n",
       "      <th>4</th>\n",
       "      <td>Female</td>\n",
       "      <td>49</td>\n",
       "      <td>Returning</td>\n",
       "      <td>Business</td>\n",
       "      <td>Business</td>\n",
       "      <td>3470</td>\n",
       "      <td>0</td>\n",
       "      <td>1.0</td>\n",
       "      <td>3</td>\n",
       "      <td>3</td>\n",
       "      <td>...</td>\n",
       "      <td>3</td>\n",
       "      <td>4</td>\n",
       "      <td>4</td>\n",
       "      <td>5</td>\n",
       "      <td>4</td>\n",
       "      <td>3</td>\n",
       "      <td>3</td>\n",
       "      <td>3</td>\n",
       "      <td>3</td>\n",
       "      <td>Satisfied</td>\n",
       "    </tr>\n",
       "  </tbody>\n",
       "</table>\n",
       "<p>5 rows × 23 columns</p>\n",
       "</div>"
      ],
      "text/plain": [
       "   Gender  Age Customer Type Type of Travel     Class  Flight Distance  \\\n",
       "0    Male   48    First-time       Business  Business              821   \n",
       "1  Female   35     Returning       Business  Business              821   \n",
       "2    Male   41     Returning       Business  Business              853   \n",
       "3    Male   50     Returning       Business  Business             1905   \n",
       "4  Female   49     Returning       Business  Business             3470   \n",
       "\n",
       "   Departure Delay  Arrival Delay  Departure and Arrival Time Convenience  \\\n",
       "0                2            5.0                                       3   \n",
       "1               26           39.0                                       2   \n",
       "2                0            0.0                                       4   \n",
       "3                0            0.0                                       2   \n",
       "4                0            1.0                                       3   \n",
       "\n",
       "   Ease of Online Booking  ...  On-board Service  Seat Comfort  \\\n",
       "0                       3  ...                 3             5   \n",
       "1                       2  ...                 5             4   \n",
       "2                       4  ...                 3             5   \n",
       "3                       2  ...                 5             5   \n",
       "4                       3  ...                 3             4   \n",
       "\n",
       "   Leg Room Service  Cleanliness  Food and Drink  In-flight Service  \\\n",
       "0                 2            5               5                  5   \n",
       "1                 5            5               3                  5   \n",
       "2                 3            5               5                  3   \n",
       "3                 5            4               4                  5   \n",
       "4                 4            5               4                  3   \n",
       "\n",
       "   In-flight Wifi Service  In-flight Entertainment  Baggage Handling  \\\n",
       "0                       3                        5                 5   \n",
       "1                       2                        5                 5   \n",
       "2                       4                        3                 3   \n",
       "3                       2                        5                 5   \n",
       "4                       3                        3                 3   \n",
       "\n",
       "              Satisfaction  \n",
       "0  Neutral or Dissatisfied  \n",
       "1                Satisfied  \n",
       "2                Satisfied  \n",
       "3                Satisfied  \n",
       "4                Satisfied  \n",
       "\n",
       "[5 rows x 23 columns]"
      ]
     },
     "execution_count": 5,
     "metadata": {},
     "output_type": "execute_result"
    }
   ],
   "source": [
    "df.head()"
   ]
  },
  {
   "cell_type": "code",
   "execution_count": 6,
   "metadata": {},
   "outputs": [
    {
     "data": {
      "text/plain": [
       "Neutral or Dissatisfied    56.89\n",
       "Satisfied                  43.11\n",
       "Name: Satisfaction, dtype: float64"
      ]
     },
     "execution_count": 6,
     "metadata": {},
     "output_type": "execute_result"
    }
   ],
   "source": [
    "df.iloc[:10000, 22].value_counts(normalize=True) * 100"
   ]
  },
  {
   "cell_type": "markdown",
   "metadata": {},
   "source": [
    "## Remoção de valores faltantes\n",
    "\n",
    "Vimos que apenas a _feature_ 'Arrival Delay' possui valores faltantes e que ela também tem alta correlação com a _feature_ 'Departure Delay'"
   ]
  },
  {
   "cell_type": "code",
   "execution_count": 7,
   "metadata": {},
   "outputs": [],
   "source": [
    "df.drop('Arrival Delay', axis=1, inplace=True)"
   ]
  },
  {
   "cell_type": "markdown",
   "metadata": {},
   "source": [
    "## Separação de _features_ e _labels_"
   ]
  },
  {
   "cell_type": "code",
   "execution_count": 8,
   "metadata": {},
   "outputs": [],
   "source": [
    "X = df.iloc[:10000,:-1]\n",
    "y = df['Satisfaction'].values[:10000]"
   ]
  },
  {
   "cell_type": "markdown",
   "metadata": {},
   "source": [
    "## Discretizando _labels_"
   ]
  },
  {
   "cell_type": "code",
   "execution_count": 9,
   "metadata": {},
   "outputs": [],
   "source": [
    "y = OrdinalEncoder().fit_transform(y.reshape(-1,1)).ravel()"
   ]
  },
  {
   "cell_type": "markdown",
   "metadata": {},
   "source": [
    "## Separando datasets em teste e treino"
   ]
  },
  {
   "cell_type": "code",
   "execution_count": 10,
   "metadata": {},
   "outputs": [],
   "source": [
    "X_train, X_test, y_train, y_test = train_test_split(X,y,train_size=0.8,random_state=42,stratify=y)"
   ]
  },
  {
   "cell_type": "markdown",
   "metadata": {},
   "source": [
    "## Carregando modelos"
   ]
  },
  {
   "cell_type": "code",
   "execution_count": 11,
   "metadata": {},
   "outputs": [],
   "source": [
    "ests = {\n",
    "    'rf': ensemble.RandomForestClassifier(n_jobs=-1, random_state=42),\n",
    "    'gb': ensemble.GradientBoostingClassifier(random_state=42),\n",
    "    'svm': svm.SVC(random_state=42),\n",
    "}"
   ]
  },
  {
   "cell_type": "markdown",
   "metadata": {},
   "source": [
    "## Column Transformers"
   ]
  },
  {
   "cell_type": "markdown",
   "metadata": {},
   "source": [
    "### Sem escalonamento"
   ]
  },
  {
   "cell_type": "code",
   "execution_count": 12,
   "metadata": {},
   "outputs": [],
   "source": [
    "pre = ColumnTransformer(transformers=[\n",
    "  ('cat', OneHotEncoder(sparse=False), ['Gender','Customer Type','Type of Travel','Class'])\n",
    "], remainder= 'passthrough')"
   ]
  },
  {
   "cell_type": "markdown",
   "metadata": {},
   "source": [
    "### Com escalonamento"
   ]
  },
  {
   "cell_type": "code",
   "execution_count": 13,
   "metadata": {},
   "outputs": [],
   "source": [
    "pre_esc = ColumnTransformer(transformers=[\n",
    "  ('cat', OneHotEncoder(sparse=False), ['Gender','Customer Type','Type of Travel','Class']),\n",
    "  ('num', StandardScaler(), [x for x in range(21) if x not in [0,2,3,4]])\n",
    "])"
   ]
  },
  {
   "cell_type": "markdown",
   "metadata": {},
   "source": [
    "## Pipelines"
   ]
  },
  {
   "cell_type": "markdown",
   "metadata": {},
   "source": [
    "### Sem escalonamento"
   ]
  },
  {
   "cell_type": "code",
   "execution_count": 14,
   "metadata": {},
   "outputs": [],
   "source": [
    "pipe = Pipeline(steps=[\n",
    "  ('pre', copy(pre)),\n",
    "  ('est', None)\n",
    "])"
   ]
  },
  {
   "cell_type": "markdown",
   "metadata": {},
   "source": [
    "### Com escalonamento"
   ]
  },
  {
   "cell_type": "code",
   "execution_count": 15,
   "metadata": {},
   "outputs": [],
   "source": [
    "pipe_esc = Pipeline(steps=[\n",
    "  ('pre', copy(pre_esc)),\n",
    "  ('est', None)\n",
    "])"
   ]
  },
  {
   "cell_type": "markdown",
   "metadata": {},
   "source": [
    "## Carregando hiperparâmetros"
   ]
  },
  {
   "cell_type": "code",
   "execution_count": 16,
   "metadata": {},
   "outputs": [],
   "source": [
    "params = [\n",
    "  {\n",
    "  # rf\n",
    "    'est__n_estimators': [80,100,120,130,140],\n",
    "    'est__max_depth': [None,20,50],\n",
    "    'est__min_samples_split': [2,3,4],\n",
    "    'est__min_samples_leaf': [1,2,3],\n",
    "    'est': [ests['rf']]\n",
    "  },\n",
    "  # gb\n",
    "  {\n",
    "    'est__learning_rate': [0.05,0.1,0.15,0.2],\n",
    "    'est__n_estimators': [100,130,140,150],\n",
    "    'est__max_depth': [2,5,8,10],\n",
    "    'est': [ests['gb']]\n",
    "  },\n",
    "  # svc\n",
    "  {\n",
    "    'est__C': [0.1, 1, 10, 100, 1000],\n",
    "    'est__gamma': [1, 0.1, 0.01, 0.001, 0.0001],\n",
    "    'est__kernel': ['rbf'],\n",
    "    'est': [ests['svm']]\n",
    "  }\n",
    "]"
   ]
  },
  {
   "cell_type": "markdown",
   "metadata": {},
   "source": [
    "## GridSearch"
   ]
  },
  {
   "cell_type": "markdown",
   "metadata": {},
   "source": [
    "### Sem escalonamento"
   ]
  },
  {
   "cell_type": "code",
   "execution_count": 17,
   "metadata": {},
   "outputs": [],
   "source": [
    "grid_search = GridSearchCV(pipe, params, scoring='f1', cv=3, n_jobs=-1, return_train_score=True)"
   ]
  },
  {
   "cell_type": "code",
   "execution_count": 18,
   "metadata": {},
   "outputs": [
    {
     "name": "stdout",
     "output_type": "stream",
     "text": [
      "CPU times: user 4.76 s, sys: 156 ms, total: 4.91 s\n",
      "Wall time: 4min 7s\n"
     ]
    }
   ],
   "source": [
    "%%time\n",
    "%%capture\n",
    "grid_search.fit(X_train, y_train)"
   ]
  },
  {
   "cell_type": "code",
   "execution_count": 19,
   "metadata": {},
   "outputs": [
    {
     "data": {
      "text/plain": [
       "GradientBoostingClassifier(learning_rate=0.15, max_depth=5, n_estimators=150,\n",
       "                           random_state=42)"
      ]
     },
     "execution_count": 19,
     "metadata": {},
     "output_type": "execute_result"
    }
   ],
   "source": [
    "grid_search.best_params_['est']"
   ]
  },
  {
   "cell_type": "code",
   "execution_count": 20,
   "metadata": {},
   "outputs": [
    {
     "data": {
      "text/plain": [
       "0.9566791471071951"
      ]
     },
     "execution_count": 20,
     "metadata": {},
     "output_type": "execute_result"
    }
   ],
   "source": [
    "grid_search.best_score_"
   ]
  },
  {
   "cell_type": "code",
   "execution_count": 21,
   "metadata": {},
   "outputs": [],
   "source": [
    "y_pred_gs = grid_search.predict(X_test)"
   ]
  },
  {
   "cell_type": "code",
   "execution_count": 22,
   "metadata": {},
   "outputs": [
    {
     "name": "stdout",
     "output_type": "stream",
     "text": [
      "              precision    recall  f1-score   support\n",
      "\n",
      "         0.0     0.9618    0.9745    0.9681      1138\n",
      "         1.0     0.9658    0.9490    0.9573       862\n",
      "\n",
      "    accuracy                         0.9635      2000\n",
      "   macro avg     0.9638    0.9617    0.9627      2000\n",
      "weighted avg     0.9635    0.9635    0.9635      2000\n",
      "\n"
     ]
    }
   ],
   "source": [
    "print(classification_report(y_test, y_pred_gs, digits=4))"
   ]
  },
  {
   "cell_type": "code",
   "execution_count": 23,
   "metadata": {},
   "outputs": [],
   "source": [
    "df_gs = pd.DataFrame(grid_search.cv_results_)"
   ]
  },
  {
   "cell_type": "code",
   "execution_count": 24,
   "metadata": {},
   "outputs": [],
   "source": [
    "df_gs.sort_values(by='rank_test_score', inplace=True)\n",
    "df_gs.reset_index(drop=True, inplace=True)"
   ]
  },
  {
   "cell_type": "code",
   "execution_count": 25,
   "metadata": {},
   "outputs": [],
   "source": [
    "df_gs['model'] = df_gs['param_est'].astype(str).str.split('(',1,True)[0]"
   ]
  },
  {
   "cell_type": "code",
   "execution_count": 26,
   "metadata": {},
   "outputs": [],
   "source": [
    "best_of_each = df_gs.groupby('model')['rank_test_score'].min()"
   ]
  },
  {
   "cell_type": "code",
   "execution_count": 49,
   "metadata": {},
   "outputs": [],
   "source": [
    "res = {}\n",
    "\n",
    "#print(f'{\"alg\":<26} | {\"train\":<20} | test')\n",
    "\n",
    "for i in best_of_each.values:\n",
    "  res[df_gs.iloc[i-1,25]] = {} \n",
    "  res[df_gs.iloc[i-1,25]][\"treino_sem_escalonamento\"] = df_gs.iloc[i-1, 23]\n",
    "  res[df_gs.iloc[i-1,25]][\"teste_sem_escalonameto\"] = df_gs.iloc[i-1,17]\n",
    "  #print(f'{df_gs.iloc[i-1,25]:<26} | {df_gs.iloc[i-1, 23]:<20} | {df_gs.iloc[i-1,17]}')"
   ]
  },
  {
   "cell_type": "markdown",
   "metadata": {},
   "source": [
    "### Com escalonamento"
   ]
  },
  {
   "cell_type": "code",
   "execution_count": 28,
   "metadata": {},
   "outputs": [],
   "source": [
    "grid_search_esc = GridSearchCV(pipe_esc, params, scoring='f1', cv=3, n_jobs=-1, return_train_score=True)"
   ]
  },
  {
   "cell_type": "code",
   "execution_count": 29,
   "metadata": {},
   "outputs": [
    {
     "name": "stdout",
     "output_type": "stream",
     "text": [
      "CPU times: user 5.28 s, sys: 76.2 ms, total: 5.35 s\n",
      "Wall time: 3min 23s\n"
     ]
    }
   ],
   "source": [
    "%%time\n",
    "%%capture\n",
    "grid_search_esc.fit(X_train, y_train)"
   ]
  },
  {
   "cell_type": "code",
   "execution_count": 30,
   "metadata": {},
   "outputs": [],
   "source": [
    "y_pred_gs_esc = grid_search_esc.predict(X_test)"
   ]
  },
  {
   "cell_type": "code",
   "execution_count": 31,
   "metadata": {},
   "outputs": [
    {
     "name": "stdout",
     "output_type": "stream",
     "text": [
      "              precision    recall  f1-score   support\n",
      "\n",
      "         0.0     0.9618    0.9745    0.9681      1138\n",
      "         1.0     0.9658    0.9490    0.9573       862\n",
      "\n",
      "    accuracy                         0.9635      2000\n",
      "   macro avg     0.9638    0.9617    0.9627      2000\n",
      "weighted avg     0.9635    0.9635    0.9635      2000\n",
      "\n"
     ]
    }
   ],
   "source": [
    "print(classification_report(y_test, y_pred_gs_esc, digits=4))"
   ]
  },
  {
   "cell_type": "code",
   "execution_count": 32,
   "metadata": {},
   "outputs": [],
   "source": [
    "df_gs_esc = pd.DataFrame(grid_search_esc.cv_results_)"
   ]
  },
  {
   "cell_type": "code",
   "execution_count": 33,
   "metadata": {},
   "outputs": [],
   "source": [
    "df_gs_esc.sort_values(by='rank_test_score', inplace=True)\n",
    "df_gs_esc.reset_index(drop=True, inplace=True)"
   ]
  },
  {
   "cell_type": "code",
   "execution_count": 34,
   "metadata": {},
   "outputs": [],
   "source": [
    "df_gs_esc['model'] = df_gs_esc['param_est'].astype(str).str.split('(',1,True)[0]"
   ]
  },
  {
   "cell_type": "code",
   "execution_count": 35,
   "metadata": {},
   "outputs": [],
   "source": [
    "best_of_each_esc = df_gs_esc.groupby('model')['rank_test_score'].min()"
   ]
  },
  {
   "cell_type": "code",
   "execution_count": 50,
   "metadata": {},
   "outputs": [],
   "source": [
    "#print(f'{\"alg\":<26} | {\"train\":<20} | test')\n",
    "\n",
    "for i in best_of_each_esc.values:\n",
    "  res[df_gs_esc.iloc[i-1,25]][\"treino_escalonado\"] = df_gs_esc.iloc[i-1, 23]\n",
    "  res[df_gs_esc.iloc[i-1,25]][\"teste_escalonado\"] = df_gs_esc.iloc[i-1,17]\n",
    "  #print(f'{df_gs_esc.iloc[i-1,25]:<26} | {df_gs_esc.iloc[i-1, 23]:<20} | {df_gs_esc.iloc[i-1,17]}')"
   ]
  },
  {
   "cell_type": "code",
   "execution_count": 47,
   "metadata": {},
   "outputs": [
    {
     "data": {
      "text/html": [
       "<div>\n",
       "<style scoped>\n",
       "    .dataframe tbody tr th:only-of-type {\n",
       "        vertical-align: middle;\n",
       "    }\n",
       "\n",
       "    .dataframe tbody tr th {\n",
       "        vertical-align: top;\n",
       "    }\n",
       "\n",
       "    .dataframe thead th {\n",
       "        text-align: right;\n",
       "    }\n",
       "</style>\n",
       "<table border=\"1\" class=\"dataframe\">\n",
       "  <thead>\n",
       "    <tr style=\"text-align: right;\">\n",
       "      <th></th>\n",
       "      <th>treino_sem_escalonamento</th>\n",
       "      <th>teste_sem_escalonameto</th>\n",
       "      <th>treino_escalonado</th>\n",
       "      <th>teste_escalonado</th>\n",
       "    </tr>\n",
       "  </thead>\n",
       "  <tbody>\n",
       "    <tr>\n",
       "      <th>GradientBoostingClassifier</th>\n",
       "      <td>1.000000</td>\n",
       "      <td>0.956679</td>\n",
       "      <td>1.000000</td>\n",
       "      <td>0.956683</td>\n",
       "    </tr>\n",
       "    <tr>\n",
       "      <th>RandomForestClassifier</th>\n",
       "      <td>0.996582</td>\n",
       "      <td>0.954609</td>\n",
       "      <td>0.996582</td>\n",
       "      <td>0.954132</td>\n",
       "    </tr>\n",
       "    <tr>\n",
       "      <th>SVC</th>\n",
       "      <td>0.914330</td>\n",
       "      <td>0.862069</td>\n",
       "      <td>0.971614</td>\n",
       "      <td>0.948083</td>\n",
       "    </tr>\n",
       "  </tbody>\n",
       "</table>\n",
       "</div>"
      ],
      "text/plain": [
       "                            treino_sem_escalonamento  teste_sem_escalonameto  \\\n",
       "GradientBoostingClassifier                  1.000000                0.956679   \n",
       "RandomForestClassifier                      0.996582                0.954609   \n",
       "SVC                                         0.914330                0.862069   \n",
       "\n",
       "                            treino_escalonado  teste_escalonado  \n",
       "GradientBoostingClassifier           1.000000          0.956683  \n",
       "RandomForestClassifier               0.996582          0.954132  \n",
       "SVC                                  0.971614          0.948083  "
      ]
     },
     "execution_count": 47,
     "metadata": {},
     "output_type": "execute_result"
    }
   ],
   "source": [
    "results = pd.DataFrame.from_dict(res, orient='index')\n",
    "results"
   ]
  },
  {
   "cell_type": "code",
   "execution_count": 48,
   "metadata": {},
   "outputs": [
    {
     "data": {
      "text/plain": [
       "<AxesSubplot:>"
      ]
     },
     "execution_count": 48,
     "metadata": {},
     "output_type": "execute_result"
    },
    {
     "data": {
      "image/png": "[encoded data removed]",
      "text/plain": [
       "<Figure size 1152x648 with 1 Axes>"
      ]
     },
     "metadata": {
      "needs_background": "light"
     },
     "output_type": "display_data"
    }
   ],
   "source": [
    "results.plot(kind='bar', figsize=(16,9))"
   ]
  }
 ],
 "metadata": {
  "interpreter": {
   "hash": "9ed5d1d1dfe9b2261c7a773d4a02e4cd4211327f910f2d56bd92bd353db7856e"
  },
  "kernelspec": {
   "display_name": "Python 3.9.11 ('machine_learning')",
   "language": "python",
   "name": "python3"
  },
  "language_info": {
   "codemirror_mode": {
    "name": "ipython",
    "version": 3
   },
   "file_extension": ".py",
   "mimetype": "text/x-python",
   "name": "python",
   "nbconvert_exporter": "python",
   "pygments_lexer": "ipython3",
   "version": "3.9.11"
  },
  "orig_nbformat": 4
 },
 "nbformat": 4,
 "nbformat_minor": 2
}
