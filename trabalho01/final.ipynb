{
 "cells": [
  {
   "cell_type": "markdown",
   "metadata": {},
   "source": [
    "# Problema\n",
    "\n",
    "Queremos predizer se um cliente de uma compania aerea gostou de seu voou, com base nas seguintes caracteristicas"
   ]
  },
  {
   "cell_type": "code",
   "execution_count": 15,
   "metadata": {},
   "outputs": [],
   "source": [
    "import pandas as pd\n",
    "import numpy as np\n",
    "import seaborn as sns\n",
    "from copy import copy\n",
    "from sklearn.pipeline import Pipeline\n",
    "from sklearn.preprocessing import OrdinalEncoder,OneHotEncoder,StandardScaler\n",
    "from sklearn.compose import ColumnTransformer\n",
    "from sklearn.model_selection import train_test_split,GridSearchCV,cross_val_score\n",
    "from sklearn.metrics import f1_score\n",
    "from sklearn import ensemble\n",
    "from sklearn import svm"
   ]
  },
  {
   "cell_type": "markdown",
   "metadata": {},
   "source": [
    "# Importando dataset"
   ]
  },
  {
   "cell_type": "code",
   "execution_count": 16,
   "metadata": {},
   "outputs": [],
   "source": [
    "df = pd.read_csv('../datasets/airline_passenger_satisfaction.csv').drop('ID',axis=1)"
   ]
  },
  {
   "cell_type": "markdown",
   "metadata": {},
   "source": [
    "# Analidando os dados\n",
    "\n",
    "vemos que apenas a feature Arrival Delay possui valores nulos e possui um alta correlação com outra coluna, optei por remove-lá"
   ]
  },
  {
   "cell_type": "code",
   "execution_count": 17,
   "metadata": {},
   "outputs": [],
   "source": [
    "df.drop('Arrival Delay', axis=1, inplace=True)"
   ]
  },
  {
   "cell_type": "markdown",
   "metadata": {},
   "source": [
    "# Separando features e labels"
   ]
  },
  {
   "cell_type": "code",
   "execution_count": 18,
   "metadata": {},
   "outputs": [],
   "source": [
    "X = df.iloc[:10000,:-1]\n",
    "y = df['Satisfaction'].values[:10000]"
   ]
  },
  {
   "cell_type": "markdown",
   "metadata": {},
   "source": [
    "# Discretizando o label"
   ]
  },
  {
   "cell_type": "code",
   "execution_count": 19,
   "metadata": {},
   "outputs": [],
   "source": [
    "y = OrdinalEncoder().fit_transform(y.reshape(-1,1)).ravel()"
   ]
  },
  {
   "cell_type": "markdown",
   "metadata": {},
   "source": [
    "# Separando treino e teste"
   ]
  },
  {
   "cell_type": "code",
   "execution_count": 20,
   "metadata": {},
   "outputs": [],
   "source": [
    "X_train, X_test, y_train, y_test = train_test_split(X,y,train_size=0.8,random_state=42,stratify=y)"
   ]
  },
  {
   "cell_type": "markdown",
   "metadata": {},
   "source": [
    "# Inicializando ColumnTransformer para features sem e com escalonamento"
   ]
  },
  {
   "cell_type": "code",
   "execution_count": 21,
   "metadata": {},
   "outputs": [],
   "source": [
    "pre = ColumnTransformer(transformers=[\n",
    "  ('cat', OneHotEncoder(sparse=False), ['Gender','Customer Type','Type of Travel','Class'])\n",
    "], remainder= 'passthrough')"
   ]
  },
  {
   "cell_type": "code",
   "execution_count": 22,
   "metadata": {},
   "outputs": [],
   "source": [
    "pre_esc = ColumnTransformer(transformers=[\n",
    "  ('cat', OneHotEncoder(sparse=False), ['Gender','Customer Type','Type of Travel','Class']),\n",
    "  ('num', StandardScaler(), [x for x in range(21) if x not in [0,2,3,4]])\n",
    "])"
   ]
  },
  {
   "cell_type": "markdown",
   "metadata": {},
   "source": [
    "# Incializandao modelos"
   ]
  },
  {
   "cell_type": "code",
   "execution_count": 23,
   "metadata": {},
   "outputs": [],
   "source": [
    "pred_models = {\n",
    "    'rf': ensemble.RandomForestClassifier(n_jobs=-1, random_state=42),\n",
    "    'gb': ensemble.GradientBoostingClassifier(random_state=42),\n",
    "    'svm': svm.SVC(random_state=42),\n",
    "}"
   ]
  },
  {
   "cell_type": "markdown",
   "metadata": {},
   "source": [
    "# Dicionarios que receberão o resultado dos testes"
   ]
  },
  {
   "cell_type": "code",
   "execution_count": 24,
   "metadata": {},
   "outputs": [],
   "source": [
    "res_train = {}\n",
    "res_test = {}\n",
    "res_esc_train = {}\n",
    "res_esc_test = {}"
   ]
  },
  {
   "cell_type": "markdown",
   "metadata": {},
   "source": [
    "# Sem escalonamento"
   ]
  },
  {
   "cell_type": "code",
   "execution_count": 25,
   "metadata": {},
   "outputs": [
    {
     "name": "stdout",
     "output_type": "stream",
     "text": [
      "rf\n",
      "{'est__max_depth': None, 'est__min_samples_leaf': 1, 'est__min_samples_split': 2, 'est__n_estimators': 120}\n",
      "1.0\n",
      "0.9569321533923303\n",
      "gb\n",
      "{'est__learning_rate': 0.15, 'est__max_depth': 8, 'est__n_estimators': 100}\n",
      "1.0\n",
      "0.9606114050558496\n",
      "svm\n",
      "{'est__C': 100, 'est__gamma': 0.0001, 'est__kernel': 'rbf'}\n",
      "0.9127055306427505\n",
      "0.8467595396729255\n"
     ]
    }
   ],
   "source": [
    "for k,m in pred_models.items():\n",
    "  pipe = Pipeline(steps=[\n",
    "    ('pre', copy(pre)),\n",
    "    ('est', copy(m))\n",
    "  ])\n",
    "  \n",
    "  if k == 'rf':\n",
    "    param_grid = {\n",
    "      'est__n_estimators': [80,100,120,130,140],\n",
    "      'est__max_depth': [None,20,50],\n",
    "      'est__min_samples_split': [2,3,4],\n",
    "      'est__min_samples_leaf': [1,2,3]}\n",
    "  \n",
    "  elif k == 'gb':\n",
    "    param_grid = {\n",
    "      'est__learning_rate': [0.05,0.1,0.15,0.2],\n",
    "      'est__n_estimators': [100,130,140,150],\n",
    "      'est__max_depth': [2,5,8,10]}\n",
    "  \n",
    "  else:\n",
    "    param_grid = {\n",
    "      'est__C': [0.1, 1, 10, 100, 1000],\n",
    "      'est__gamma': [1, 0.1, 0.01, 0.001, 0.0001],\n",
    "      'est__kernel': ['rbf']}\n",
    "\n",
    "  grid_search = GridSearchCV(pipe, param_grid, scoring='f1',cv=3, n_jobs=-1)\n",
    "  \n",
    "  grid_search.fit(X_train, y_train)\n",
    "\n",
    "  best_pa = grid_search.best_params_\n",
    "  y_pred_train = grid_search.predict(X_train)\n",
    "  y_pred_test = grid_search.predict(X_test)\n",
    "  train_score = f1_score(y_train, y_pred_train)\n",
    "  test_score = f1_score(y_test, y_pred_test)\n",
    "\n",
    "  res_train[k] = train_score\n",
    "  res_test[k] = test_score\n",
    "\n",
    "  print(k)\n",
    "  print(best_pa)\n",
    "  print(train_score)\n",
    "  print(test_score)"
   ]
  },
  {
   "cell_type": "markdown",
   "metadata": {},
   "source": [
    "# Com escalonamento"
   ]
  },
  {
   "cell_type": "code",
   "execution_count": 26,
   "metadata": {},
   "outputs": [
    {
     "name": "stdout",
     "output_type": "stream",
     "text": [
      "rf\n",
      "{'est__max_depth': None, 'est__min_samples_leaf': 1, 'est__min_samples_split': 4, 'est__n_estimators': 120}\n",
      "0.99767644496079\n",
      "0.9574970484061393\n",
      "gb\n",
      "{'est__learning_rate': 0.15, 'est__max_depth': 8, 'est__n_estimators': 100}\n",
      "1.0\n",
      "0.9611764705882354\n",
      "svm\n",
      "{'est__C': 100, 'est__gamma': 0.01, 'est__kernel': 'rbf'}\n",
      "0.969165570656145\n",
      "0.9519343493552169\n"
     ]
    }
   ],
   "source": [
    "for k,m in pred_models.items():\n",
    "  pipe = Pipeline(steps=[\n",
    "    ('pre', copy(pre_esc)),\n",
    "    ('est', copy(m))\n",
    "  ])\n",
    "  \n",
    "  if k == 'rf':\n",
    "    param_grid = {\n",
    "      'est__n_estimators': [80,100,120,130,140],\n",
    "      'est__max_depth': [None,20,50],\n",
    "      'est__min_samples_split': [2,3,4],\n",
    "      'est__min_samples_leaf': [1,2,3]}\n",
    "  \n",
    "  elif k == 'gb':\n",
    "    param_grid = {\n",
    "      'est__learning_rate': [0.05,0.1,0.15,0.2],\n",
    "      'est__n_estimators': [100,130,140,150],\n",
    "      'est__max_depth': [2,5,8,10]}\n",
    "  \n",
    "  else:\n",
    "    param_grid = {\n",
    "      'est__C': [0.1, 1, 10, 100, 1000],\n",
    "      'est__gamma': [1, 0.1, 0.01, 0.001, 0.0001],\n",
    "      'est__kernel': ['rbf']}\n",
    "\n",
    "  grid_search = GridSearchCV(pipe, param_grid, scoring='f1',cv=3, n_jobs=-1)\n",
    "  \n",
    "  grid_search.fit(X_train, y_train)\n",
    "\n",
    "  best_pa = grid_search.best_params_\n",
    "  y_pred_train = grid_search.predict(X_train)\n",
    "  y_pred_test = grid_search.predict(X_test)\n",
    "  train_score = f1_score(y_train, y_pred_train)\n",
    "  test_score = f1_score(y_test, y_pred_test)\n",
    "\n",
    "  res_esc_train[k] = train_score\n",
    "  res_esc_test[k] = test_score\n",
    "\n",
    "  print(k)\n",
    "  print(best_pa)\n",
    "  print(train_score)\n",
    "  print(test_score)"
   ]
  },
  {
   "cell_type": "code",
   "execution_count": 27,
   "metadata": {},
   "outputs": [],
   "source": [
    "res_train_df = pd.DataFrame.from_dict(res_train, orient='index', columns=['treino sem escalonamento'])\n",
    "res_test_df = pd.DataFrame.from_dict(res_test, orient='index', columns=['teste sem escalonamento'])\n",
    "res_esc_train_df = pd.DataFrame.from_dict(res_esc_test, orient='index', columns=['treino escalonado'])\n",
    "res_esc_test_df = pd.DataFrame.from_dict(res_esc_test, orient='index', columns=['teste escalonado'])\n",
    "df_res = pd.concat([res_train_df,res_test_df,res_esc_train_df,res_esc_test_df], axis=1)"
   ]
  },
  {
   "cell_type": "code",
   "execution_count": 28,
   "metadata": {},
   "outputs": [
    {
     "data": {
      "text/html": [
       "<div>\n",
       "<style scoped>\n",
       "    .dataframe tbody tr th:only-of-type {\n",
       "        vertical-align: middle;\n",
       "    }\n",
       "\n",
       "    .dataframe tbody tr th {\n",
       "        vertical-align: top;\n",
       "    }\n",
       "\n",
       "    .dataframe thead th {\n",
       "        text-align: right;\n",
       "    }\n",
       "</style>\n",
       "<table border=\"1\" class=\"dataframe\">\n",
       "  <thead>\n",
       "    <tr style=\"text-align: right;\">\n",
       "      <th></th>\n",
       "      <th>treino sem escalonamento</th>\n",
       "      <th>teste sem escalonamento</th>\n",
       "      <th>treino escalonado</th>\n",
       "      <th>teste escalonado</th>\n",
       "    </tr>\n",
       "  </thead>\n",
       "  <tbody>\n",
       "    <tr>\n",
       "      <th>rf</th>\n",
       "      <td>1.000000</td>\n",
       "      <td>0.956932</td>\n",
       "      <td>0.957497</td>\n",
       "      <td>0.957497</td>\n",
       "    </tr>\n",
       "    <tr>\n",
       "      <th>gb</th>\n",
       "      <td>1.000000</td>\n",
       "      <td>0.960611</td>\n",
       "      <td>0.961176</td>\n",
       "      <td>0.961176</td>\n",
       "    </tr>\n",
       "    <tr>\n",
       "      <th>svm</th>\n",
       "      <td>0.912706</td>\n",
       "      <td>0.846760</td>\n",
       "      <td>0.951934</td>\n",
       "      <td>0.951934</td>\n",
       "    </tr>\n",
       "  </tbody>\n",
       "</table>\n",
       "</div>"
      ],
      "text/plain": [
       "     treino sem escalonamento  teste sem escalonamento  treino escalonado  \\\n",
       "rf                   1.000000                 0.956932           0.957497   \n",
       "gb                   1.000000                 0.960611           0.961176   \n",
       "svm                  0.912706                 0.846760           0.951934   \n",
       "\n",
       "     teste escalonado  \n",
       "rf           0.957497  \n",
       "gb           0.961176  \n",
       "svm          0.951934  "
      ]
     },
     "execution_count": 28,
     "metadata": {},
     "output_type": "execute_result"
    }
   ],
   "source": [
    "df_res"
   ]
  },
  {
   "cell_type": "code",
   "execution_count": 29,
   "metadata": {},
   "outputs": [
    {
     "data": {
      "text/plain": [
       "<AxesSubplot:>"
      ]
     },
     "execution_count": 29,
     "metadata": {},
     "output_type": "execute_result"
    },
    {
     "data": {
      "image/png": "[encoded data removed]",
      "text/plain": [
       "<Figure size 1152x648 with 1 Axes>"
      ]
     },
     "metadata": {
      "needs_background": "light"
     },
     "output_type": "display_data"
    }
   ],
   "source": [
    "df_res.plot(kind='bar', figsize=(16,9))"
   ]
  }
 ],
 "metadata": {
  "interpreter": {
   "hash": "9ed5d1d1dfe9b2261c7a773d4a02e4cd4211327f910f2d56bd92bd353db7856e"
  },
  "kernelspec": {
   "display_name": "Python 3.9.11 ('machine_learning')",
   "language": "python",
   "name": "python3"
  },
  "language_info": {
   "codemirror_mode": {
    "name": "ipython",
    "version": 3
   },
   "file_extension": ".py",
   "mimetype": "text/x-python",
   "name": "python",
   "nbconvert_exporter": "python",
   "pygments_lexer": "ipython3",
   "version": "3.9.11"
  },
  "orig_nbformat": 4
 },
 "nbformat": 4,
 "nbformat_minor": 2
}
