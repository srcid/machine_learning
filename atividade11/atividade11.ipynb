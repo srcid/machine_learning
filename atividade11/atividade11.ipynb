{
 "cells": [
  {
   "cell_type": "markdown",
   "metadata": {},
   "source": [
    "1. Implemente os algoritmos Árvore de Decisão, Random Forest, AdaBoost e Perceptron usando uma interface semelhante ao Scikit-Learn. O algoritmo deve ser uma classe Python em uma biblioteca externa.\n",
    "\n",
    "Dica: veja as implementações disponíveis em: https://github.com/python-engineer/MLfromscratch/tree/master/mlfromscratch \n",
    "2. Treine e avalie (de acordo com a métrica F1-Score), usando suas implementações por você, o problema de classificação binária a seguir: Heart Disease Dataset\n",
    "\n",
    "3. Compare o resultado de sua implementação com as implementações do scikit learn (Decision Tree, Random Forest, AdaBoost, Gradient Boosting, Perceptron) em um grid search. Varie os hiper-parâmetros da implementação do scikit learn.\n",
    "\n",
    "4. Crie e use um modelo de Bagging usando o scikit learn com 100 árvores de decisão. Compare os resultados de suas predições sobre o conjunto de teste com os resultados do melhor Random Forest obtido na Questão 3. "
   ]
  },
  {
   "cell_type": "code",
   "execution_count": 1,
   "metadata": {},
   "outputs": [],
   "source": [
    "from modelos.adaboost import Adaboost\n",
    "from modelos.decision_tree import DecisionTree\n",
    "from modelos.perceptron import Perceptron\n",
    "from modelos.random_forest import RandomForest\n",
    "from sklearn.metrics import *\n",
    "from sklearn.pipeline import Pipeline\n",
    "from sklearn.model_selection import GridSearchCV, train_test_split\n",
    "from sklearn import tree\n",
    "from sklearn import ensemble\n",
    "from sklearn import linear_model\n",
    "import pandas as pd\n",
    "import numpy as np"
   ]
  },
  {
   "cell_type": "code",
   "execution_count": 2,
   "metadata": {},
   "outputs": [],
   "source": [
    "heart = pd.read_csv('../datasets/heart.csv')"
   ]
  },
  {
   "cell_type": "code",
   "execution_count": 3,
   "metadata": {},
   "outputs": [],
   "source": [
    "X = heart.iloc[:,0:-1].values\n",
    "y = heart.iloc[:,-1].values"
   ]
  },
  {
   "cell_type": "code",
   "execution_count": 4,
   "metadata": {},
   "outputs": [],
   "source": [
    "X_train, X_test, y_train, y_test = train_test_split(X,y,stratify=y,train_size=0.8)"
   ]
  },
  {
   "cell_type": "code",
   "execution_count": 5,
   "metadata": {},
   "outputs": [],
   "source": [
    "res = {}"
   ]
  },
  {
   "cell_type": "code",
   "execution_count": 6,
   "metadata": {},
   "outputs": [],
   "source": [
    "# skl_modelos = {\n",
    "#   'ada_skl': ensemble.AdaBoostClassifier(),\n",
    "#   'dt_skl': tree.DecisionTreeClassifier(),\n",
    "#   'per_skl': linear_model.Perceptron(),\n",
    "#   'rf_skl': ensemble.RandomForestClassifier()\n",
    "# }\n",
    "\n",
    "meus_modelos = {\n",
    "  'ada': Adaboost(),\n",
    "  'dt': DecisionTree(),\n",
    "  'per': Perceptron(),\n",
    "  'rf': RandomForest()\n",
    "}"
   ]
  },
  {
   "cell_type": "code",
   "execution_count": 7,
   "metadata": {},
   "outputs": [],
   "source": [
    "for k,m in meus_modelos.items():\n",
    "  m.fit(X_train, y_train)\n",
    "  y_pred = m.predict(X_test)\n",
    "  res[k] = f1_score(y_pred=y_pred, y_true=y_test)"
   ]
  },
  {
   "cell_type": "code",
   "execution_count": 8,
   "metadata": {},
   "outputs": [],
   "source": [
    "params = [\n",
    "  {\n",
    "    'est__criterion': ['gini', 'entropy'],\n",
    "    'est__splitter': ['best', 'random'],\n",
    "    'est__min_samples_split': [0.5,2,3,4],\n",
    "    'est__random_state': [42],\n",
    "    'est': [tree.DecisionTreeClassifier()],\n",
    "  },\n",
    "  {\n",
    "    'est__n_estimators': [50, 100, 150],\n",
    "    'est__criterion': ['gini', 'entropy'],\n",
    "    'est__min_samples_split': [0.5,2,3,4],\n",
    "    'est__random_state': [42],\n",
    "    'est': [ensemble.RandomForestClassifier()],\n",
    "  },\n",
    "  {\n",
    "    'est__n_estimators': [25, 50, 75],\n",
    "    'est__learning_rate': [0.5, 1.0, 1.5],\n",
    "    'est__algorithm': ['SAMME', 'SAMME.R'],\n",
    "    'est__random_state': [42],\n",
    "    'est': [ensemble.AdaBoostClassifier()],\n",
    "  },\n",
    "  {\n",
    "    'est__penalty': ['l2', 'l1', 'elasticnet', None],\n",
    "    'est__alpha': [1e-4,1e-3,1e-2],\n",
    "    'est__max_iter': [500,1000,2000],\n",
    "    'est__random_state': [42],\n",
    "    'est': [linear_model.Perceptron()],\n",
    "  }\n",
    "]"
   ]
  },
  {
   "cell_type": "code",
   "execution_count": 9,
   "metadata": {},
   "outputs": [],
   "source": [
    "pipe = Pipeline([\n",
    "  ('est', None)\n",
    "])"
   ]
  },
  {
   "cell_type": "code",
   "execution_count": 10,
   "metadata": {},
   "outputs": [],
   "source": [
    "grid_search = GridSearchCV(pipe, params, scoring='f1', cv=3, n_jobs=-1, return_train_score=True)"
   ]
  },
  {
   "cell_type": "code",
   "execution_count": 11,
   "metadata": {},
   "outputs": [],
   "source": [
    "%%capture\n",
    "grid_search.fit(X_train, y_train)"
   ]
  },
  {
   "cell_type": "code",
   "execution_count": 12,
   "metadata": {},
   "outputs": [],
   "source": [
    "res_df = pd.DataFrame(grid_search.cv_results_)"
   ]
  },
  {
   "cell_type": "code",
   "execution_count": 13,
   "metadata": {},
   "outputs": [],
   "source": [
    "res_df['model'] = res_df['param_est'].astype(str).str.split('(',1,True)[0]"
   ]
  },
  {
   "cell_type": "code",
   "execution_count": 14,
   "metadata": {},
   "outputs": [],
   "source": [
    "for idx in res_df.groupby('model')['rank_test_score'].idxmin():\n",
    "  res[res_df.iloc[idx, -1] + '_skl'] = res_df.iloc[idx, 19]"
   ]
  },
  {
   "cell_type": "code",
   "execution_count": 25,
   "metadata": {},
   "outputs": [],
   "source": [
    "comp = pd.DataFrame(res, index=[0])"
   ]
  },
  {
   "cell_type": "code",
   "execution_count": 34,
   "metadata": {},
   "outputs": [
    {
     "data": {
      "text/plain": [
       "<AxesSubplot:>"
      ]
     },
     "execution_count": 34,
     "metadata": {},
     "output_type": "execute_result"
    },
    {
     "data": {
      "image/png": "[encoded data removed]",
      "text/plain": [
       "<Figure size 1080x360 with 1 Axes>"
      ]
     },
     "metadata": {
      "needs_background": "light"
     },
     "output_type": "display_data"
    }
   ],
   "source": [
    "comp.plot.bar(figsize=(15,5), position=0.0)"
   ]
  },
  {
   "cell_type": "code",
   "execution_count": 35,
   "metadata": {},
   "outputs": [],
   "source": [
    "my_rf = ensemble.BaggingClassifier(base_estimator=tree.DecisionTreeClassifier(), n_estimators=100, random_state=42)"
   ]
  },
  {
   "cell_type": "code",
   "execution_count": 36,
   "metadata": {},
   "outputs": [
    {
     "data": {
      "text/plain": [
       "BaggingClassifier(base_estimator=DecisionTreeClassifier(), n_estimators=100,\n",
       "                  random_state=42)"
      ]
     },
     "execution_count": 36,
     "metadata": {},
     "output_type": "execute_result"
    }
   ],
   "source": [
    "my_rf.fit(X_train, y_train)"
   ]
  },
  {
   "cell_type": "code",
   "execution_count": 37,
   "metadata": {},
   "outputs": [],
   "source": [
    "y_pred = my_rf.predict(X_test)"
   ]
  },
  {
   "cell_type": "code",
   "execution_count": 38,
   "metadata": {},
   "outputs": [],
   "source": [
    "res['my_rf'] = f1_score(y_pred=y_pred, y_true=y_test)"
   ]
  },
  {
   "cell_type": "code",
   "execution_count": 40,
   "metadata": {},
   "outputs": [],
   "source": [
    "comp_rf = pd.DataFrame({'Random Forest': res['rf'], 'Meu RF': res['my_rf']}, index=[0])"
   ]
  },
  {
   "cell_type": "code",
   "execution_count": 43,
   "metadata": {},
   "outputs": [
    {
     "data": {
      "text/plain": [
       "<AxesSubplot:>"
      ]
     },
     "execution_count": 43,
     "metadata": {},
     "output_type": "execute_result"
    },
    {
     "data": {
      "image/png": "[encoded data removed]",
      "text/plain": [
       "<Figure size 1080x360 with 1 Axes>"
      ]
     },
     "metadata": {
      "needs_background": "light"
     },
     "output_type": "display_data"
    }
   ],
   "source": [
    "comp_rf.plot.bar(figsize=(15,5))"
   ]
  }
 ],
 "metadata": {
  "kernelspec": {
   "display_name": "Python 3 (ipykernel)",
   "language": "python",
   "name": "python3"
  },
  "language_info": {
   "codemirror_mode": {
    "name": "ipython",
    "version": 3
   },
   "file_extension": ".py",
   "mimetype": "text/x-python",
   "name": "python",
   "nbconvert_exporter": "python",
   "pygments_lexer": "ipython3",
   "version": "3.9.11"
  },
  "vscode": {
   "interpreter": {
    "hash": "9ed5d1d1dfe9b2261c7a773d4a02e4cd4211327f910f2d56bd92bd353db7856e"
   }
  }
 },
 "nbformat": 4,
 "nbformat_minor": 2
}
